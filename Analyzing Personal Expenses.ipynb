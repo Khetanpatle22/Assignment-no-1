{
 "cells": [
  {
   "cell_type": "code",
   "execution_count": 2,
   "id": "99a9ce92",
   "metadata": {},
   "outputs": [],
   "source": [
    "from faker import Faker\n",
    "import random\n",
    "import random\n",
    "from datetime import datetime\n",
    "import calendar\n",
    "import pandas as pd\n",
    "import mysql.connector"
   ]
  },
  {
   "cell_type": "code",
   "execution_count": 3,
   "id": "fc8c807d",
   "metadata": {},
   "outputs": [],
   "source": [
    "from datetime import datetime\n",
    "start_date = datetime(2024,3,31)\n",
    "end_date = datetime(2025,2,28)"
   ]
  },
  {
   "cell_type": "code",
   "execution_count": 4,
   "id": "fda94a99",
   "metadata": {},
   "outputs": [],
   "source": [
    "Categories = [\"Groceries\",\"stationary\",\"Bills\",\"Subscription\",\"Investment\",\"Transaction\"]\n",
    "payment_mode =[\"UPI\",\"Cash\",\"Debit card\",\"Credit Card\"]\n",
    "bills        =[\"water Bill\",\"electricity bill\",\"Wifi\",\"phone\",\"gas\"]\n",
    "Subscription = [\"Youtube\",\"netflix\",\"prime\"]"
   ]
  },
  {
   "cell_type": "code",
   "execution_count": 7,
   "id": "32501cd6",
   "metadata": {},
   "outputs": [
    {
     "name": "stdout",
     "output_type": "stream",
     "text": [
      "{'Date': datetime.date(2025, 5, 2), 'Category': 'Groceries', 'payment mode': 'Card', 'descriptions_by_category': {'Groceries': ['Bought vegetables and fruits', 'Weekly grocery shopping', 'Purchased organic produce'], 'Stationery': ['Bought pens and notebooks', 'Purchased office supplies', 'Stationery shopping for school'], 'Bills': ['Paid electricity bill', 'Settled water bill', 'Paid phone bill'], 'Subscription': ['Renewed streaming service subscription', 'Subscribed to magazine', 'Bought gym membership subscription'], 'Investment': ['Invested in mutual funds', 'Purchased stocks', 'Invested in bonds'], 'Transaction': ['Transferred money to friend', 'Paid via online transfer', 'Sent money to relative'], 'Insurance': ['Paid car insurance premium', 'Settled health insurance bill', 'Completed insurance renewal'], 'Health': ['Bought medicine from pharmacy', 'Paid for doctor consultation', 'Purchased vitamins and supplements']}, 'cashback': 5, 'Amount': 993.4}\n"
     ]
    }
   ],
   "source": [
    "from faker import Faker\n",
    "import random\n",
    "\n",
    "# Instantiate Faker\n",
    "fake = Faker()\n",
    "\n",
    "Categories = [\"Groceries\", \"Stationery\", \"Bills\", \"Subscription\", \"Investment\", \"Transaction\", \"Insurance\", \"Health\"]\n",
    "payment_mode = [\"UPI\", \"Card\", \"Cash\", \"Net Banking\"]\n",
    "\n",
    "expense = {\n",
    "    \"Date\"         : fake.date_this_month(), # Now 'fake' is defined and can be used\n",
    "    \"Category\"     : random.choice(Categories),\n",
    "    \"payment mode\" : random.choice(payment_mode),\n",
    "    \"descriptions_by_category\" : {\n",
    "    \"Groceries\": [\n",
    "        \"Bought vegetables and fruits\",\n",
    "        \"Weekly grocery shopping\",\n",
    "        \"Purchased organic produce\"\n",
    "    ],\n",
    "    \"Stationery\": [\n",
    "        \"Bought pens and notebooks\",\n",
    "        \"Purchased office supplies\",\n",
    "        \"Stationery shopping for school\"\n",
    "    ],\n",
    "    \"Bills\": [\n",
    "        \"Paid electricity bill\",\n",
    "        \"Settled water bill\",\n",
    "        \"Paid phone bill\"\n",
    "    ],\n",
    "    \"Subscription\": [\n",
    "        \"Renewed streaming service subscription\",\n",
    "        \"Subscribed to magazine\",\n",
    "        \"Bought gym membership subscription\"\n",
    "    ],\n",
    "    \"Investment\": [\n",
    "        \"Invested in mutual funds\",\n",
    "        \"Purchased stocks\",\n",
    "        \"Invested in bonds\"\n",
    "    ],\n",
    "    \"Transaction\": [\n",
    "        \"Transferred money to friend\",\n",
    "        \"Paid via online transfer\",\n",
    "        \"Sent money to relative\"\n",
    "    ],\n",
    "    \"Insurance\": [\n",
    "        \"Paid car insurance premium\",\n",
    "        \"Settled health insurance bill\",\n",
    "        \"Completed insurance renewal\"\n",
    "    ],\n",
    "    \"Health\": [\n",
    "        \"Bought medicine from pharmacy\",\n",
    "        \"Paid for doctor consultation\",\n",
    "        \"Purchased vitamins and supplements\"\n",
    "    ]\n",
    " },\n",
    "    \"cashback\"     : random.choice([0,5,10]),\n",
    "    \"Amount\"       : round(random.uniform(10,1000),2)\n",
    " }\n",
    "print(expense)"
   ]
  },
  {
   "cell_type": "code",
   "execution_count": 14,
   "id": "b9a4afa0",
   "metadata": {},
   "outputs": [
    {
     "name": "stdout",
     "output_type": "stream",
     "text": [
      "            Date     Category payment mode                    Description  \\\n",
      "0     2024-03-08        Bills          UPI             Settled water bill   \n",
      "1     2024-03-07    Groceries   Debit Card      Purchased organic produce   \n",
      "2     2024-03-04  Transaction         Cash         Sent money to relative   \n",
      "3     2024-03-11        Bills  Credit Card                Paid phone bill   \n",
      "4     2024-03-17    Insurance  Credit Card  Settled health insurance bill   \n",
      "...          ...          ...          ...                            ...   \n",
      "1195  2025-02-19    Groceries          UPI      Purchased organic produce   \n",
      "1196  2025-02-08    Insurance         Cash  Settled health insurance bill   \n",
      "1197  2025-02-25  Transaction         Cash         Sent money to relative   \n",
      "1198  2025-02-26   Investment          UPI              Invested in bonds   \n",
      "1199  2025-02-15    Insurance  Credit Card  Settled health insurance bill   \n",
      "\n",
      "      cashback  Amount  \n",
      "0         7.77   96.61  \n",
      "1         0.00   39.53  \n",
      "2         0.00  333.77  \n",
      "3         0.00  797.01  \n",
      "4         0.00  221.78  \n",
      "...        ...     ...  \n",
      "1195     22.93  619.09  \n",
      "1196      0.00  684.71  \n",
      "1197      0.00  718.86  \n",
      "1198     28.34  914.09  \n",
      "1199      0.00  357.49  \n",
      "\n",
      "[1200 rows x 6 columns]\n"
     ]
    }
   ],
   "source": [
    "Categories = [\"Groceries\", \"Stationery\", \"Bills\", \"Subscription\", \"Investment\", \"Transaction\", \"Insurance\", \"Health\"]\n",
    "payment_mode = [\"UPI\", \"Cash\", \"Debit Card\", \"Credit Card\"]\n",
    "descriptions_by_category = {\n",
    "    \"Groceries\": [\"Bought vegetables and fruits\", \"Weekly grocery shopping\", \"Purchased organic produce\"],\n",
    "    \"Stationery\": [\"Bought pens and notebooks\", \"Purchased office supplies\", \"Stationery shopping for school\"],\n",
    "    \"Bills\": [\"Paid electricity bill\", \"Settled water bill\", \"Paid phone bill\"],\n",
    "    \"Subscription\": [\"Renewed streaming service subscription\", \"Subscribed to magazine\", \"Bought gym membership subscription\"],\n",
    "    \"Investment\": [\"Invested in mutual funds\", \"Purchased stocks\",  \"Invested in bonds\"],\n",
    "    \"Transaction\": [\"Transferred money to friend\", \"Paid via online transfer\", \"Sent money to relative\"],\n",
    "    \"Insurance\": [\"Paid car insurance premium\", \"Settled health insurance bill\", \"Completed insurance renewal\"],\n",
    "    \"Health\": [\"Bought medicine from pharmacy\", \"Paid for doctor consultation\", \"Purchased vitamins and supplements\"]\n",
    " }\n",
    "from faker import Faker\n",
    "fake = Faker()\n",
    "def gen_exp_data():\n",
    "    data = []\n",
    "    for year, start_month, end_month in [(2024, 3, 12), (2025, 1, 2)]:\n",
    "        for month in range(start_month, end_month + 1):\n",
    "            for _ in range(100):\n",
    "                mode = random.choice(payment_mode)\n",
    "                cashback = round(random.uniform(0, 50), 2) if mode == \"UPI\" else 0.0\n",
    "                category = random.choice(Categories)\n",
    "                expense = {\n",
    "                    \"Date\": fake.date_between_dates(\n",
    "                        date_start=datetime(year, month, 1),\n",
    "                        date_end=datetime(year, month, \n",
    "calendar.monthrange(year, month)[1])\n",
    "                    ),\n",
    "                    \"Category\": category,\n",
    "                    \"payment mode\": mode,\n",
    "                    \"Description\": \n",
    "random.choice(descriptions_by_category[category]),\n",
    "                    \"cashback\": cashback,\n",
    "                    \"Amount\": round(random.uniform(10, 1000), 2)\n",
    "                }\n",
    "                data.append(expense)\n",
    "    return pd.DataFrame(data)\n",
    " # Generate the expense data\n",
    "exp_data = gen_exp_data()\n",
    "print(exp_data)"
   ]
  },
  {
   "cell_type": "code",
   "execution_count": 19,
   "id": "32e23496",
   "metadata": {},
   "outputs": [
    {
     "name": "stdout",
     "output_type": "stream",
     "text": [
      "Data successfully transferred to MySQL database 'expenses_db',table 'expenses'.\n"
     ]
    }
   ],
   "source": [
    "exp_data.rename(columns={\"payment mode\": \"payment_mode\"}, \n",
    "inplace=True)\n",
    " # Connect to MySQL\n",
    "cnx = mysql.connector.connect(\n",
    "    host=\"127.0.0.1\",\n",
    "    user=\"root\",\n",
    "    password=\"Khetan2@2\"\n",
    " )\n",
    "cursor = cnx.cursor()\n",
    " # Create a database named 'expenses_db' if it doesn't exist\n",
    "cursor.execute(\"CREATE DATABASE IF NOT EXISTS expenses_db\")\n",
    " # Switch to the 'expenses_db' database\n",
    "cnx.database = \"expenses_db\"\n",
    " # Create the 'expenses' table if it doesn't exist\n",
    "create_table_query = \"\"\"\n",
    " CREATE TABLE IF NOT EXISTS expenses (\n",
    "    id INT AUTO_INCREMENT PRIMARY KEY,\n",
    "    date DATE,\n",
    "    category VARCHAR(50),\n",
    "    payment_mode VARCHAR(50),\n",
    "    description VARCHAR(255),\n",
    "    cashback DECIMAL(10,2),\n",
    "    amount DECIMAL(10,2)\n",
    " )\n",
    " \"\"\"\n",
    "cursor.execute(create_table_query)\n",
    " # Prepare the INSERT query\n",
    "insert_query = \"\"\"\n",
    " INSERT INTO expenses (date, category, payment_mode, description, \n",
    "cashback, amount)\n",
    " VALUES (%s, %s, %s, %s, %s, %s)\n",
    " \"\"\"\n",
    " # Convert the DataFrame to a list of tuples\n",
    "data_tuples = [tuple(x) for x in exp_data.to_numpy()]\n",
    " # Perform batch insertion\n",
    "cursor.executemany(insert_query, data_tuples)\n",
    " # Commit the transaction to save changes\n",
    "cnx.commit()\n",
    " # Close the cursor and connection\n",
    "cursor.close()\n",
    "cnx.close()\n",
    "print(\"Data successfully transferred to MySQL database 'expenses_db',table 'expenses'.\")"
   ]
  },
  {
   "cell_type": "code",
   "execution_count": null,
   "id": "f803e9c3",
   "metadata": {},
   "outputs": [],
   "source": []
  },
  {
   "cell_type": "code",
   "execution_count": null,
   "id": "321d6be5",
   "metadata": {},
   "outputs": [],
   "source": []
  },
  {
   "cell_type": "code",
   "execution_count": null,
   "id": "4f165858",
   "metadata": {},
   "outputs": [],
   "source": []
  },
  {
   "cell_type": "code",
   "execution_count": null,
   "id": "d4bfd238",
   "metadata": {},
   "outputs": [],
   "source": []
  },
  {
   "cell_type": "code",
   "execution_count": null,
   "id": "8362ff2f",
   "metadata": {},
   "outputs": [],
   "source": []
  },
  {
   "cell_type": "code",
   "execution_count": null,
   "id": "32d8c495",
   "metadata": {},
   "outputs": [],
   "source": []
  },
  {
   "cell_type": "code",
   "execution_count": null,
   "id": "846323a8",
   "metadata": {},
   "outputs": [],
   "source": []
  },
  {
   "cell_type": "code",
   "execution_count": null,
   "id": "0d5c1abf",
   "metadata": {},
   "outputs": [],
   "source": []
  },
  {
   "cell_type": "code",
   "execution_count": null,
   "id": "8b76db72",
   "metadata": {},
   "outputs": [],
   "source": []
  },
  {
   "cell_type": "code",
   "execution_count": null,
   "id": "94a498b5",
   "metadata": {},
   "outputs": [],
   "source": []
  },
  {
   "cell_type": "code",
   "execution_count": null,
   "id": "22b715ef",
   "metadata": {},
   "outputs": [],
   "source": []
  },
  {
   "cell_type": "code",
   "execution_count": null,
   "id": "78e0e72c",
   "metadata": {},
   "outputs": [],
   "source": []
  },
  {
   "cell_type": "code",
   "execution_count": null,
   "id": "7814674e",
   "metadata": {},
   "outputs": [],
   "source": []
  }
 ],
 "metadata": {
  "kernelspec": {
   "display_name": "Python 3",
   "language": "python",
   "name": "python3"
  },
  "language_info": {
   "codemirror_mode": {
    "name": "ipython",
    "version": 3
   },
   "file_extension": ".py",
   "mimetype": "text/x-python",
   "name": "python",
   "nbconvert_exporter": "python",
   "pygments_lexer": "ipython3",
   "version": "3.12.10"
  }
 },
 "nbformat": 4,
 "nbformat_minor": 5
}
